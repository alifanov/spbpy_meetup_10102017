{
 "cells": [
  {
   "cell_type": "code",
   "execution_count": 1,
   "metadata": {},
   "outputs": [],
   "source": [
    "import pandas as pd\n",
    "from sklearn.model_selection import train_test_split"
   ]
  },
  {
   "cell_type": "code",
   "execution_count": 2,
   "metadata": {},
   "outputs": [
    {
     "data": {
      "text/html": [
       "<div>\n",
       "<style>\n",
       "    .dataframe thead tr:only-child th {\n",
       "        text-align: right;\n",
       "    }\n",
       "\n",
       "    .dataframe thead th {\n",
       "        text-align: left;\n",
       "    }\n",
       "\n",
       "    .dataframe tbody tr th {\n",
       "        vertical-align: top;\n",
       "    }\n",
       "</style>\n",
       "<table border=\"1\" class=\"dataframe\">\n",
       "  <thead>\n",
       "    <tr style=\"text-align: right;\">\n",
       "      <th></th>\n",
       "      <th>open</th>\n",
       "      <th>high</th>\n",
       "      <th>low</th>\n",
       "      <th>close</th>\n",
       "      <th>volume</th>\n",
       "    </tr>\n",
       "    <tr>\n",
       "      <th>datetime</th>\n",
       "      <th></th>\n",
       "      <th></th>\n",
       "      <th></th>\n",
       "      <th></th>\n",
       "      <th></th>\n",
       "    </tr>\n",
       "  </thead>\n",
       "  <tbody>\n",
       "    <tr>\n",
       "      <th>1474205100</th>\n",
       "      <td>0.021000</td>\n",
       "      <td>0.021039</td>\n",
       "      <td>0.021000</td>\n",
       "      <td>0.021038</td>\n",
       "      <td>4.296642</td>\n",
       "    </tr>\n",
       "    <tr>\n",
       "      <th>1474205400</th>\n",
       "      <td>0.021042</td>\n",
       "      <td>0.021049</td>\n",
       "      <td>0.021038</td>\n",
       "      <td>0.021046</td>\n",
       "      <td>3.987229</td>\n",
       "    </tr>\n",
       "    <tr>\n",
       "      <th>1474205700</th>\n",
       "      <td>0.021042</td>\n",
       "      <td>0.021042</td>\n",
       "      <td>0.021000</td>\n",
       "      <td>0.021038</td>\n",
       "      <td>19.966953</td>\n",
       "    </tr>\n",
       "    <tr>\n",
       "      <th>1474206000</th>\n",
       "      <td>0.021025</td>\n",
       "      <td>0.021038</td>\n",
       "      <td>0.021000</td>\n",
       "      <td>0.021030</td>\n",
       "      <td>27.707384</td>\n",
       "    </tr>\n",
       "    <tr>\n",
       "      <th>1474206300</th>\n",
       "      <td>0.021001</td>\n",
       "      <td>0.021038</td>\n",
       "      <td>0.021001</td>\n",
       "      <td>0.021036</td>\n",
       "      <td>3.879610</td>\n",
       "    </tr>\n",
       "  </tbody>\n",
       "</table>\n",
       "</div>"
      ],
      "text/plain": [
       "                open      high       low     close     volume\n",
       "datetime                                                     \n",
       "1474205100  0.021000  0.021039  0.021000  0.021038   4.296642\n",
       "1474205400  0.021042  0.021049  0.021038  0.021046   3.987229\n",
       "1474205700  0.021042  0.021042  0.021000  0.021038  19.966953\n",
       "1474206000  0.021025  0.021038  0.021000  0.021030  27.707384\n",
       "1474206300  0.021001  0.021038  0.021001  0.021036   3.879610"
      ]
     },
     "execution_count": 2,
     "metadata": {},
     "output_type": "execute_result"
    }
   ],
   "source": [
    "df = pd.read_csv('./datasets/5min/BTC_ETH.csv', index_col=0)\n",
    "df.head()"
   ]
  },
  {
   "cell_type": "code",
   "execution_count": 3,
   "metadata": {},
   "outputs": [],
   "source": [
    "df_train, df_test = train_test_split(df, test_size=5*12*24*14, shuffle=False)"
   ]
  },
  {
   "cell_type": "code",
   "execution_count": 4,
   "metadata": {},
   "outputs": [
    {
     "data": {
      "text/plain": [
       "((84960, 5), (20160, 5))"
      ]
     },
     "execution_count": 4,
     "metadata": {},
     "output_type": "execute_result"
    }
   ],
   "source": [
    "df_train.shape, df_test.shape"
   ]
  },
  {
   "cell_type": "code",
   "execution_count": 5,
   "metadata": {},
   "outputs": [
    {
     "data": {
      "text/html": [
       "<div>\n",
       "<style>\n",
       "    .dataframe thead tr:only-child th {\n",
       "        text-align: right;\n",
       "    }\n",
       "\n",
       "    .dataframe thead th {\n",
       "        text-align: left;\n",
       "    }\n",
       "\n",
       "    .dataframe tbody tr th {\n",
       "        vertical-align: top;\n",
       "    }\n",
       "</style>\n",
       "<table border=\"1\" class=\"dataframe\">\n",
       "  <thead>\n",
       "    <tr style=\"text-align: right;\">\n",
       "      <th></th>\n",
       "      <th>open</th>\n",
       "      <th>high</th>\n",
       "      <th>low</th>\n",
       "      <th>close</th>\n",
       "      <th>volume</th>\n",
       "    </tr>\n",
       "    <tr>\n",
       "      <th>datetime</th>\n",
       "      <th></th>\n",
       "      <th></th>\n",
       "      <th></th>\n",
       "      <th></th>\n",
       "      <th></th>\n",
       "    </tr>\n",
       "  </thead>\n",
       "  <tbody>\n",
       "    <tr>\n",
       "      <th>1474205100</th>\n",
       "      <td>0.021000</td>\n",
       "      <td>0.021039</td>\n",
       "      <td>0.021000</td>\n",
       "      <td>0.021038</td>\n",
       "      <td>4.296642</td>\n",
       "    </tr>\n",
       "    <tr>\n",
       "      <th>1474205400</th>\n",
       "      <td>0.021042</td>\n",
       "      <td>0.021049</td>\n",
       "      <td>0.021038</td>\n",
       "      <td>0.021046</td>\n",
       "      <td>3.987229</td>\n",
       "    </tr>\n",
       "    <tr>\n",
       "      <th>1474205700</th>\n",
       "      <td>0.021042</td>\n",
       "      <td>0.021042</td>\n",
       "      <td>0.021000</td>\n",
       "      <td>0.021038</td>\n",
       "      <td>19.966953</td>\n",
       "    </tr>\n",
       "    <tr>\n",
       "      <th>1474206000</th>\n",
       "      <td>0.021025</td>\n",
       "      <td>0.021038</td>\n",
       "      <td>0.021000</td>\n",
       "      <td>0.021030</td>\n",
       "      <td>27.707384</td>\n",
       "    </tr>\n",
       "    <tr>\n",
       "      <th>1474206300</th>\n",
       "      <td>0.021001</td>\n",
       "      <td>0.021038</td>\n",
       "      <td>0.021001</td>\n",
       "      <td>0.021036</td>\n",
       "      <td>3.879610</td>\n",
       "    </tr>\n",
       "  </tbody>\n",
       "</table>\n",
       "</div>"
      ],
      "text/plain": [
       "                open      high       low     close     volume\n",
       "datetime                                                     \n",
       "1474205100  0.021000  0.021039  0.021000  0.021038   4.296642\n",
       "1474205400  0.021042  0.021049  0.021038  0.021046   3.987229\n",
       "1474205700  0.021042  0.021042  0.021000  0.021038  19.966953\n",
       "1474206000  0.021025  0.021038  0.021000  0.021030  27.707384\n",
       "1474206300  0.021001  0.021038  0.021001  0.021036   3.879610"
      ]
     },
     "execution_count": 5,
     "metadata": {},
     "output_type": "execute_result"
    }
   ],
   "source": [
    "df_train.head()"
   ]
  },
  {
   "cell_type": "code",
   "execution_count": 6,
   "metadata": {},
   "outputs": [
    {
     "data": {
      "text/html": [
       "<div>\n",
       "<style>\n",
       "    .dataframe thead tr:only-child th {\n",
       "        text-align: right;\n",
       "    }\n",
       "\n",
       "    .dataframe thead th {\n",
       "        text-align: left;\n",
       "    }\n",
       "\n",
       "    .dataframe tbody tr th {\n",
       "        vertical-align: top;\n",
       "    }\n",
       "</style>\n",
       "<table border=\"1\" class=\"dataframe\">\n",
       "  <thead>\n",
       "    <tr style=\"text-align: right;\">\n",
       "      <th></th>\n",
       "      <th>open</th>\n",
       "      <th>high</th>\n",
       "      <th>low</th>\n",
       "      <th>close</th>\n",
       "      <th>volume</th>\n",
       "    </tr>\n",
       "    <tr>\n",
       "      <th>datetime</th>\n",
       "      <th></th>\n",
       "      <th></th>\n",
       "      <th></th>\n",
       "      <th></th>\n",
       "      <th></th>\n",
       "    </tr>\n",
       "  </thead>\n",
       "  <tbody>\n",
       "    <tr>\n",
       "      <th>1499693100</th>\n",
       "      <td>0.090430</td>\n",
       "      <td>0.090450</td>\n",
       "      <td>0.09000</td>\n",
       "      <td>0.09010</td>\n",
       "      <td>335.567642</td>\n",
       "    </tr>\n",
       "    <tr>\n",
       "      <th>1499693400</th>\n",
       "      <td>0.090081</td>\n",
       "      <td>0.090446</td>\n",
       "      <td>0.09000</td>\n",
       "      <td>0.09000</td>\n",
       "      <td>102.076371</td>\n",
       "    </tr>\n",
       "    <tr>\n",
       "      <th>1499693700</th>\n",
       "      <td>0.090000</td>\n",
       "      <td>0.090002</td>\n",
       "      <td>0.08851</td>\n",
       "      <td>0.08900</td>\n",
       "      <td>1037.093304</td>\n",
       "    </tr>\n",
       "    <tr>\n",
       "      <th>1499694000</th>\n",
       "      <td>0.089000</td>\n",
       "      <td>0.089633</td>\n",
       "      <td>0.08853</td>\n",
       "      <td>0.08930</td>\n",
       "      <td>506.893767</td>\n",
       "    </tr>\n",
       "    <tr>\n",
       "      <th>1499694300</th>\n",
       "      <td>0.089300</td>\n",
       "      <td>0.089697</td>\n",
       "      <td>0.08920</td>\n",
       "      <td>0.08942</td>\n",
       "      <td>226.942927</td>\n",
       "    </tr>\n",
       "  </tbody>\n",
       "</table>\n",
       "</div>"
      ],
      "text/plain": [
       "                open      high      low    close       volume\n",
       "datetime                                                     \n",
       "1499693100  0.090430  0.090450  0.09000  0.09010   335.567642\n",
       "1499693400  0.090081  0.090446  0.09000  0.09000   102.076371\n",
       "1499693700  0.090000  0.090002  0.08851  0.08900  1037.093304\n",
       "1499694000  0.089000  0.089633  0.08853  0.08930   506.893767\n",
       "1499694300  0.089300  0.089697  0.08920  0.08942   226.942927"
      ]
     },
     "execution_count": 6,
     "metadata": {},
     "output_type": "execute_result"
    }
   ],
   "source": [
    "df_test.head()"
   ]
  },
  {
   "cell_type": "code",
   "execution_count": 7,
   "metadata": {},
   "outputs": [],
   "source": [
    "df_train.to_csv('./datasets/5min/BTC_ETH_train.csv')\n",
    "df_test.to_csv('./datasets/5min/BTC_ETH_test.csv')"
   ]
  },
  {
   "cell_type": "code",
   "execution_count": null,
   "metadata": {},
   "outputs": [],
   "source": []
  }
 ],
 "metadata": {
  "kernelspec": {
   "display_name": "Python 3",
   "language": "python",
   "name": "python3"
  },
  "language_info": {
   "codemirror_mode": {
    "name": "ipython",
    "version": 3
   },
   "file_extension": ".py",
   "mimetype": "text/x-python",
   "name": "python",
   "nbconvert_exporter": "python",
   "pygments_lexer": "ipython3",
   "version": "3.5.3"
  }
 },
 "nbformat": 4,
 "nbformat_minor": 2
}
