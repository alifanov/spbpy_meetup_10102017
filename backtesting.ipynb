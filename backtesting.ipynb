{
 "cells": [
  {
   "cell_type": "markdown",
   "metadata": {
    "slideshow": {
     "slide_type": "slide"
    }
   },
   "source": [
    "# Backtesting (Mikasa)"
   ]
  },
  {
   "cell_type": "code",
   "execution_count": 1,
   "metadata": {
    "slideshow": {
     "slide_type": "slide"
    }
   },
   "outputs": [
    {
     "name": "stderr",
     "output_type": "stream",
     "text": [
      "Using TensorFlow backend.\n"
     ]
    }
   ],
   "source": [
    "import keras\n",
    "\n",
    "import sys\n",
    "\n",
    "sys.path.append('.')\n",
    "\n",
    "import os\n",
    "import datetime\n",
    "import numpy as np\n",
    "import pandas as pd\n",
    "\n",
    "from datetime import datetime\n",
    "\n",
    "import matplotlib.pyplot as plt\n",
    "%matplotlib inline\n",
    "plt.rcParams['figure.figsize'] = (10.0, 8.0)\n",
    "\n",
    "np.random.seed(7)\n",
    "\n",
    "from mikasa.strategy import Strategy\n",
    "from mikasa.event import SignalEvent, OrderEvent\n",
    "from mikasa.backtest import Backtest\n",
    "from mikasa.data import HistoricCSVDataHandler\n",
    "from mikasa.portfolio import NaivePortfolio\n",
    "from mikasa.execution import SimulatedExecutionHandler\n",
    "\n",
    "from sklearn.preprocessing import StandardScaler"
   ]
  },
  {
   "cell_type": "code",
   "execution_count": 2,
   "metadata": {
    "slideshow": {
     "slide_type": "slide"
    }
   },
   "outputs": [],
   "source": [
    "class NaiveStopPortfolio(NaivePortfolio):\n",
    "    TILT = 0.001\n",
    "\n",
    "    def generate_naive_order(self, signal):\n",
    "        order = None\n",
    "\n",
    "        mkt_quantity = 1000.0\n",
    "        cur_quantity = self.current_positions[signal.symbol]\n",
    "        order_type = 'MKT'\n",
    "\n",
    "        price = self.bars.get_latest_bars(signal.symbol)[0].close\n",
    "\n",
    "        if signal.signal_type == 'LONG' and cur_quantity == 0:\n",
    "            price *= (1.0 + self.TILT)\n",
    "            order = OrderEvent(signal.symbol, order_type, mkt_quantity, 'BUY', price)\n",
    "#        if signal.signal_type == 'SHORT' and cur_quantity == 0:\n",
    "#            price *= (1.0 - self.TILT)\n",
    "#            order = OrderEvent(signal.symbol, order_type, mkt_quantity, 'SELL', price)\n",
    "\n",
    "        if signal.signal_type == 'EXIT':\n",
    "            if cur_quantity > 0:\n",
    "                price *= (1.0 - self.TILT)\n",
    "                order = OrderEvent(signal.symbol, order_type, abs(cur_quantity), 'SELL', price)\n",
    "#            if cur_quantity < 0:\n",
    "#                price *= (1.0 + self.TILT)\n",
    "#                order = OrderEvent(signal.symbol, order_type, abs(cur_quantity), 'BUY', price)\n",
    "\n",
    "        return order"
   ]
  },
  {
   "cell_type": "code",
   "execution_count": 9,
   "metadata": {
    "slideshow": {
     "slide_type": "slide"
    }
   },
   "outputs": [],
   "source": [
    "class PredictStrategy(Strategy):\n",
    "    def __init__(self, bars, events):\n",
    "        self.bars = bars\n",
    "        self.symbol_list = self.bars.symbol_list\n",
    "        self.events = events\n",
    "\n",
    "        self.lag = 12\n",
    "\n",
    "        csv_dir = './datasets/5min/'\n",
    "\n",
    "        df = pd.read_csv(os.path.join(csv_dir, symbol_list[0] + '.csv'))\n",
    "        for lag in range(1, self.lag + 1):\n",
    "            df['close-' + str(lag)] = df['close'] - df.shift(lag)['close']\n",
    "        df.dropna(inplace=True)\n",
    "\n",
    "        self.close_fields = ['close-{}'.format(i + 1) for i in range(self.lag)]\n",
    "\n",
    "        df['up'] = df['close'] < df.shift(-1)['close']\n",
    "\n",
    "        self.scaler = StandardScaler()\n",
    "        X = df[self.close_fields].values\n",
    "        self.scaler.fit(X)\n",
    "\n",
    "        self.model = keras.models.load_model('model_5min_btc_eth.h5')\n",
    "\n",
    "    def calculate_signals(self, event):\n",
    "        if event.type == 'MARKET':\n",
    "            dt = self.bars.get_latest_bars_values(self.symbol_list[0], 'datetime')[0]\n",
    "\n",
    "            X = self.bars.get_latest_bars_values(self.symbol_list[0], 'close', N=self.lag + 1)\n",
    "            if len(X) == self.lag + 1:\n",
    "                df = pd.DataFrame(X, columns=['close'])\n",
    "                for lag in range(1, self.lag + 1):\n",
    "                    df['close-' + str(lag)] = df['close'] - df.shift(lag)['close']\n",
    "                df.dropna(inplace=True)\n",
    "                X = df[self.close_fields].values\n",
    "                X = self.scaler.transform(X)\n",
    "                prediction = self.model.predict(X)[0]\n",
    "                if prediction[1] > 0.7:\n",
    "                    signal = SignalEvent(1, self.symbol_list[0], dt, 'LONG', 1.0)\n",
    "                    self.events.put(signal)\n",
    "                if prediction[0] > 0.7:\n",
    "                    signal = SignalEvent(1, self.symbol_list[0], dt, 'EXIT', 1.0)\n",
    "                    self.events.put(signal)"
   ]
  },
  {
   "cell_type": "code",
   "execution_count": 10,
   "metadata": {
    "slideshow": {
     "slide_type": "slide"
    }
   },
   "outputs": [
    {
     "name": "stdout",
     "output_type": "stream",
     "text": [
      "                     BTC_ETH_test       cash  commission     total   returns  \\\n",
      "datetime                                                                       \n",
      "2017-09-18 15:40:00      73.53921 -70.837789    0.143389  2.701421  0.077787   \n",
      "2017-09-18 15:45:00      73.32678 -70.837789    0.143389  2.488991 -0.078636   \n",
      "2017-09-18 15:50:00      73.60762 -70.837789    0.143389  2.769831  0.112833   \n",
      "2017-09-18 15:55:00      73.63001 -70.837789    0.143389  2.792221  0.008084   \n",
      "2017-09-18 16:00:00      73.62100 -70.837789    0.143389  2.783211 -0.003227   \n",
      "2017-09-18 16:05:00      73.40054 -70.837789    0.143389  2.562751 -0.079211   \n",
      "2017-09-18 16:10:00      73.33666 -70.837789    0.143389  2.498871 -0.024926   \n",
      "2017-09-18 16:15:00      73.35169 -70.837789    0.143389  2.513901  0.006015   \n",
      "2017-09-18 16:20:00      73.33702 -70.837789    0.143389  2.499231 -0.005836   \n",
      "2017-09-18 16:20:00      73.33702 -70.837789    0.143389  2.499231  0.000000   \n",
      "\n",
      "                     equity_curve  \n",
      "datetime                           \n",
      "2017-09-18 15:40:00      2.701421  \n",
      "2017-09-18 15:45:00      2.488991  \n",
      "2017-09-18 15:50:00      2.769831  \n",
      "2017-09-18 15:55:00      2.792221  \n",
      "2017-09-18 16:00:00      2.783211  \n",
      "2017-09-18 16:05:00      2.562751  \n",
      "2017-09-18 16:10:00      2.498871  \n",
      "2017-09-18 16:15:00      2.513901  \n",
      "2017-09-18 16:20:00      2.499231  \n",
      "2017-09-18 16:20:00      2.499231  \n",
      "[('Total Return', '149.92%'),\n",
      " ('Sharpe Ratio', '17.18'),\n",
      " ('Max Drawdown', '3892.45%'),\n",
      " ('Drawdown Duration', '17770')]\n",
      "Signals: 36\n",
      "Orders: 17\n",
      "Fills: 17\n"
     ]
    }
   ],
   "source": [
    "csv_dir = './datasets/5min/'\n",
    "symbol_list = ['BTC_ETH_test', ]\n",
    "initial_capital = 1.0\n",
    "heartbeat = 0.0\n",
    "start_date = datetime(2016, 9, 9, 0, 0, 1)\n",
    "\n",
    "backtest = Backtest(\n",
    "        csv_dir,\n",
    "        symbol_list,\n",
    "        initial_capital,\n",
    "        heartbeat,\n",
    "        start_date,\n",
    "        HistoricCSVDataHandler,\n",
    "        SimulatedExecutionHandler,\n",
    "        NaiveStopPortfolio,\n",
    "        PredictStrategy,\n",
    "        fields=['open', 'high', 'low', 'close']\n",
    ")\n",
    "backtest.simulate_trading()"
   ]
  },
  {
   "cell_type": "code",
   "execution_count": 11,
   "metadata": {
    "slideshow": {
     "slide_type": "slide"
    }
   },
   "outputs": [
    {
     "data": {
      "image/png": "[encoded data removed]",
      "text/plain": [
       "<matplotlib.figure.Figure at 0x7fa519faf0b8>"
      ]
     },
     "metadata": {},
     "output_type": "display_data"
    }
   ],
   "source": [
    "backtest.plot()"
   ]
  },
  {
   "cell_type": "code",
   "execution_count": null,
   "metadata": {},
   "outputs": [],
   "source": []
  }
 ],
 "metadata": {
  "celltoolbar": "Slideshow",
  "kernelspec": {
   "display_name": "Python 3",
   "language": "python",
   "name": "python3"
  },
  "language_info": {
   "codemirror_mode": {
    "name": "ipython",
    "version": 3
   },
   "file_extension": ".py",
   "mimetype": "text/x-python",
   "name": "python",
   "nbconvert_exporter": "python",
   "pygments_lexer": "ipython3",
   "version": "3.5.3"
  }
 },
 "nbformat": 4,
 "nbformat_minor": 2
}
