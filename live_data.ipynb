{
 "cells": [
  {
   "cell_type": "markdown",
   "metadata": {
    "slideshow": {
     "slide_type": "slide"
    }
   },
   "source": [
    "# Backtesting (live)"
   ]
  },
  {
   "cell_type": "code",
   "execution_count": 1,
   "metadata": {
    "slideshow": {
     "slide_type": "slide"
    }
   },
   "outputs": [
    {
     "name": "stderr",
     "output_type": "stream",
     "text": [
      "Using TensorFlow backend.\n"
     ]
    }
   ],
   "source": [
    "import keras\n",
    "\n",
    "import sys\n",
    "\n",
    "sys.path.append('.')\n",
    "\n",
    "import os\n",
    "import datetime\n",
    "import numpy as np\n",
    "import pandas as pd\n",
    "\n",
    "from datetime import datetime\n",
    "\n",
    "np.random.seed(7)\n",
    "\n",
    "from mikasa.strategy import Strategy\n",
    "from mikasa.event import SignalEvent, OrderEvent\n",
    "from mikasa.backtest import Backtest\n",
    "from mikasa.data import PoloniexDataHandler\n",
    "from mikasa.portfolio import NaivePortfolio\n",
    "from mikasa.execution import SimulatedExecutionHandler\n",
    "\n",
    "from sklearn.preprocessing import StandardScaler"
   ]
  },
  {
   "cell_type": "code",
   "execution_count": 5,
   "metadata": {
    "slideshow": {
     "slide_type": "slide"
    }
   },
   "outputs": [],
   "source": [
    "class PredictStrategy(Strategy):\n",
    "    def __init__(self, bars, events):\n",
    "        self.bars = bars\n",
    "        self.symbol_list = self.bars.symbol_list\n",
    "        self.events = events\n",
    "\n",
    "        self.lag = 12\n",
    "\n",
    "        csv_dir = './datasets/5min/'\n",
    "\n",
    "        df = pd.read_csv(os.path.join(csv_dir, symbol_list[0] + '_test.csv'))\n",
    "        for lag in range(1, self.lag + 1):\n",
    "            df['close-' + str(lag)] = df['close'] - df.shift(lag)['close']\n",
    "        df.dropna(inplace=True)\n",
    "\n",
    "        self.close_fields = ['close-{}'.format(i + 1) for i in range(self.lag)]\n",
    "\n",
    "        df['up'] = df['close'] < df.shift(-1)['close']\n",
    "\n",
    "        self.scaler = StandardScaler()\n",
    "        X = df[self.close_fields].values\n",
    "        self.scaler.fit(X)\n",
    "\n",
    "        self.model = keras.models.load_model('model_5min_btc_eth.h5')\n",
    "\n",
    "    def calculate_signals(self, event):\n",
    "        if event.type == 'MARKET':\n",
    "            dt = self.bars.get_latest_bars_values(self.symbol_list[0], 'datetime')[0]\n",
    "\n",
    "            X = self.bars.get_latest_bars_values(self.symbol_list[0], 'close', N=self.lag + 1)\n",
    "            if len(X) == self.lag + 1:\n",
    "                df = pd.DataFrame(X, columns=['close'])\n",
    "                for lag in range(1, self.lag + 1):\n",
    "                    df['close-' + str(lag)] = df['close'] - df.shift(lag)['close']\n",
    "                df.dropna(inplace=True)\n",
    "                X = df[self.close_fields].values\n",
    "                X = self.scaler.transform(X)\n",
    "                prediction = self.model.predict(X)[0]\n",
    "                if prediction[1] > 0.7:\n",
    "                    signal = SignalEvent(1, self.symbol_list[0], dt, 'LONG', 1.0)\n",
    "                    self.events.put(signal)\n",
    "                if prediction[0] > 0.7:\n",
    "                    signal = SignalEvent(1, self.symbol_list[0], dt, 'EXIT', 1.0)\n",
    "                    self.events.put(signal)"
   ]
  },
  {
   "cell_type": "code",
   "execution_count": null,
   "metadata": {},
   "outputs": [],
   "source": [
    "#class PoloniexDataHandler(HistoricCSVDataHandler):\n",
    "#    def __init__(self, events, symbol_list, period):\n",
    "#        self.events = events\n",
    "#        self.symbol_list = symbol_list\n",
    "#\n",
    "#        self.latest_symbol_data = {s: [] for s in self.symbol_list}\n",
    "#        self.continue_backtest = True\n",
    "#\n",
    "#        self.period = period\n",
    "#\n",
    "#    def _get_new_bar(self, symbol):\n",
    "#        polo = Poloniex()\n",
    "#        start = datetime.datetime.now() - datetime.timedelta(days=1)\n",
    "#        data = polo.returnChartData(symbol, period=self.period, start=start.timestamp())[-1]\n",
    "#\n",
    "#        yield DataPoint({\n",
    "#            'symbol': symbol,\n",
    "#            'datetime': datetime.datetime.fromtimestamp(data['date']),\n",
    "#            'timestamp': data['date'],\n",
    "#            'open': data['open'],\n",
    "#            'high': data['high'],\n",
    "#            'low': data['low'],\n",
    "#            'close': data['close'],\n",
    "#            'volume': data['volume']\n",
    "#        })"
   ]
  },
  {
   "cell_type": "code",
   "execution_count": 6,
   "metadata": {
    "slideshow": {
     "slide_type": "slide"
    }
   },
   "outputs": [],
   "source": [
    "class PoloniexBacktest(Backtest):\n",
    "    def _generate_trading_instances(self):\n",
    "        self.data_handler = self.data_handler_cls(self.events,\n",
    "                                                  self.symbol_list, period=300)\n",
    "        self.strategy = self.strategy_cls(self.data_handler, self.events)\n",
    "        self.portfolio = self.portfolio_cls(self.data_handler, self.events,\n",
    "                                            self.start_date,\n",
    "                                            self.initial_capital)\n",
    "        self.execution_handler = self.execution_handler_cls(self.events, self.portfolio)"
   ]
  },
  {
   "cell_type": "code",
   "execution_count": 7,
   "metadata": {
    "slideshow": {
     "slide_type": "slide"
    }
   },
   "outputs": [
    {
     "name": "stdout",
     "output_type": "stream",
     "text": [
      "Start backtesting...\n",
      "Got new event: MarketEvent\n",
      "Got new event: MarketEvent\n",
      "Got new event: MarketEvent\n",
      "Got new event: MarketEvent\n",
      "Got new event: MarketEvent\n",
      "Got new event: MarketEvent\n"
     ]
    },
    {
     "ename": "KeyboardInterrupt",
     "evalue": "",
     "output_type": "error",
     "traceback": [
      "\u001b[0;31m---------------------------------------------------------------------------\u001b[0m",
      "\u001b[0;31mKeyboardInterrupt\u001b[0m                         Traceback (most recent call last)",
      "\u001b[0;32m<ipython-input-7-a2fd46a80de6>\u001b[0m in \u001b[0;36m<module>\u001b[0;34m()\u001b[0m\n\u001b[1;32m     18\u001b[0m         \u001b[0mverbose\u001b[0m\u001b[0;34m=\u001b[0m\u001b[0;36m1\u001b[0m\u001b[0;34m\u001b[0m\u001b[0m\n\u001b[1;32m     19\u001b[0m     )\n\u001b[0;32m---> 20\u001b[0;31m     \u001b[0mbacktest\u001b[0m\u001b[0;34m.\u001b[0m\u001b[0msimulate_trading\u001b[0m\u001b[0;34m(\u001b[0m\u001b[0;34m)\u001b[0m\u001b[0;34m\u001b[0m\u001b[0m\n\u001b[0m",
      "\u001b[0;32m~/PycharmProjects/spbpy_meetup_10102017/venv/lib/python3.5/site-packages/mikasa/backtest.py\u001b[0m in \u001b[0;36msimulate_trading\u001b[0;34m(self)\u001b[0m\n\u001b[1;32m    102\u001b[0m \u001b[0;34m\u001b[0m\u001b[0m\n\u001b[1;32m    103\u001b[0m     \u001b[0;32mdef\u001b[0m \u001b[0msimulate_trading\u001b[0m\u001b[0;34m(\u001b[0m\u001b[0mself\u001b[0m\u001b[0;34m)\u001b[0m\u001b[0;34m:\u001b[0m\u001b[0;34m\u001b[0m\u001b[0m\n\u001b[0;32m--> 104\u001b[0;31m         \u001b[0mself\u001b[0m\u001b[0;34m.\u001b[0m\u001b[0m_run_backtest\u001b[0m\u001b[0;34m(\u001b[0m\u001b[0;34m)\u001b[0m\u001b[0;34m\u001b[0m\u001b[0m\n\u001b[0m\u001b[1;32m    105\u001b[0m         \u001b[0mself\u001b[0m\u001b[0;34m.\u001b[0m\u001b[0m_output_performance\u001b[0m\u001b[0;34m(\u001b[0m\u001b[0;34m)\u001b[0m\u001b[0;34m\u001b[0m\u001b[0m\n\u001b[1;32m    106\u001b[0m \u001b[0;34m\u001b[0m\u001b[0m\n",
      "\u001b[0;32m~/PycharmProjects/spbpy_meetup_10102017/venv/lib/python3.5/site-packages/mikasa/backtest.py\u001b[0m in \u001b[0;36m_run_backtest\u001b[0;34m(self)\u001b[0m\n\u001b[1;32m     90\u001b[0m                     \u001b[0;32mif\u001b[0m \u001b[0mevent\u001b[0m \u001b[0;32mis\u001b[0m \u001b[0;32mnot\u001b[0m \u001b[0;32mNone\u001b[0m\u001b[0;34m:\u001b[0m\u001b[0;34m\u001b[0m\u001b[0m\n\u001b[1;32m     91\u001b[0m                         \u001b[0mself\u001b[0m\u001b[0;34m.\u001b[0m\u001b[0m_process_event\u001b[0m\u001b[0;34m(\u001b[0m\u001b[0mevent\u001b[0m\u001b[0;34m)\u001b[0m\u001b[0;34m\u001b[0m\u001b[0m\n\u001b[0;32m---> 92\u001b[0;31m             \u001b[0mtime\u001b[0m\u001b[0;34m.\u001b[0m\u001b[0msleep\u001b[0m\u001b[0;34m(\u001b[0m\u001b[0mself\u001b[0m\u001b[0;34m.\u001b[0m\u001b[0mheartbeat\u001b[0m\u001b[0;34m)\u001b[0m\u001b[0;34m\u001b[0m\u001b[0m\n\u001b[0m\u001b[1;32m     93\u001b[0m \u001b[0;34m\u001b[0m\u001b[0m\n\u001b[1;32m     94\u001b[0m     \u001b[0;32mdef\u001b[0m \u001b[0m_output_performance\u001b[0m\u001b[0;34m(\u001b[0m\u001b[0mself\u001b[0m\u001b[0;34m)\u001b[0m\u001b[0;34m:\u001b[0m\u001b[0;34m\u001b[0m\u001b[0m\n",
      "\u001b[0;31mKeyboardInterrupt\u001b[0m: "
     ]
    }
   ],
   "source": [
    "if __name__ == \"__main__\":\n",
    "    symbol_list = ['BTC_ETH', ]\n",
    "    initial_capital = 1.0\n",
    "    heartbeat = 1\n",
    "    start_date = datetime.now()\n",
    "\n",
    "    backtest = PoloniexBacktest(\n",
    "        None,\n",
    "        symbol_list,\n",
    "        initial_capital,\n",
    "        heartbeat,\n",
    "        start_date,\n",
    "        PoloniexDataHandler, # for poloniex\n",
    "        SimulatedExecutionHandler,\n",
    "        NaivePortfolio,\n",
    "        PredictStrategy,\n",
    "        fields=['open', 'high', 'low', 'close', 'volume'],\n",
    "        verbose=1\n",
    "    )\n",
    "    backtest.simulate_trading()"
   ]
  },
  {
   "cell_type": "code",
   "execution_count": null,
   "metadata": {},
   "outputs": [],
   "source": []
  }
 ],
 "metadata": {
  "celltoolbar": "Slideshow",
  "kernelspec": {
   "display_name": "Python 3",
   "language": "python",
   "name": "python3"
  },
  "language_info": {
   "codemirror_mode": {
    "name": "ipython",
    "version": 3
   },
   "file_extension": ".py",
   "mimetype": "text/x-python",
   "name": "python",
   "nbconvert_exporter": "python",
   "pygments_lexer": "ipython3",
   "version": "3.5.3"
  }
 },
 "nbformat": 4,
 "nbformat_minor": 2
}
