{
 "cells": [
  {
   "cell_type": "code",
   "execution_count": 1,
   "metadata": {
    "scrolled": true,
    "slideshow": {
     "slide_type": "slide"
    }
   },
   "outputs": [
    {
     "name": "stderr",
     "output_type": "stream",
     "text": [
      "Using TensorFlow backend.\n"
     ]
    }
   ],
   "source": [
    "import pandas as pd\n",
    "import numpy as np\n",
    "from sklearn.preprocessing import StandardScaler, MinMaxScaler\n",
    "from sklearn.model_selection import train_test_split\n",
    "\n",
    "from keras.models import Sequential\n",
    "from keras.layers import Dense\n",
    "\n",
    "import matplotlib.pyplot as plt\n",
    "%matplotlib inline\n",
    "plt.rcParams['figure.figsize'] = (10.0, 10.0)\n",
    "\n",
    "seed = 7\n",
    "\n",
    "np.random.seed(seed)\n",
    "\n",
    "period = '5min'\n",
    "pair = 'BTC_ETH'\n",
    "lag = 12"
   ]
  },
  {
   "cell_type": "code",
   "execution_count": 2,
   "metadata": {
    "slideshow": {
     "slide_type": "slide"
    }
   },
   "outputs": [
    {
     "data": {
      "text/html": [
       "<div>\n",
       "<style>\n",
       "    .dataframe thead tr:only-child th {\n",
       "        text-align: right;\n",
       "    }\n",
       "\n",
       "    .dataframe thead th {\n",
       "        text-align: left;\n",
       "    }\n",
       "\n",
       "    .dataframe tbody tr th {\n",
       "        vertical-align: top;\n",
       "    }\n",
       "</style>\n",
       "<table border=\"1\" class=\"dataframe\">\n",
       "  <thead>\n",
       "    <tr style=\"text-align: right;\">\n",
       "      <th></th>\n",
       "      <th>open</th>\n",
       "      <th>high</th>\n",
       "      <th>low</th>\n",
       "      <th>close</th>\n",
       "      <th>volume</th>\n",
       "    </tr>\n",
       "    <tr>\n",
       "      <th>datetime</th>\n",
       "      <th></th>\n",
       "      <th></th>\n",
       "      <th></th>\n",
       "      <th></th>\n",
       "      <th></th>\n",
       "    </tr>\n",
       "  </thead>\n",
       "  <tbody>\n",
       "    <tr>\n",
       "      <th>1474781100</th>\n",
       "      <td>0.021633</td>\n",
       "      <td>0.021646</td>\n",
       "      <td>0.021619</td>\n",
       "      <td>0.021619</td>\n",
       "      <td>5.092732</td>\n",
       "    </tr>\n",
       "    <tr>\n",
       "      <th>1495086900</th>\n",
       "      <td>0.049629</td>\n",
       "      <td>0.049847</td>\n",
       "      <td>0.049500</td>\n",
       "      <td>0.049500</td>\n",
       "      <td>91.973196</td>\n",
       "    </tr>\n",
       "    <tr>\n",
       "      <th>1479183000</th>\n",
       "      <td>0.013950</td>\n",
       "      <td>0.013990</td>\n",
       "      <td>0.013940</td>\n",
       "      <td>0.013990</td>\n",
       "      <td>0.540378</td>\n",
       "    </tr>\n",
       "    <tr>\n",
       "      <th>1484196900</th>\n",
       "      <td>0.012170</td>\n",
       "      <td>0.012200</td>\n",
       "      <td>0.012160</td>\n",
       "      <td>0.012200</td>\n",
       "      <td>11.014315</td>\n",
       "    </tr>\n",
       "    <tr>\n",
       "      <th>1503744300</th>\n",
       "      <td>0.076242</td>\n",
       "      <td>0.076625</td>\n",
       "      <td>0.076186</td>\n",
       "      <td>0.076538</td>\n",
       "      <td>21.859215</td>\n",
       "    </tr>\n",
       "  </tbody>\n",
       "</table>\n",
       "</div>"
      ],
      "text/plain": [
       "                open      high       low     close     volume\n",
       "datetime                                                     \n",
       "1474781100  0.021633  0.021646  0.021619  0.021619   5.092732\n",
       "1495086900  0.049629  0.049847  0.049500  0.049500  91.973196\n",
       "1479183000  0.013950  0.013990  0.013940  0.013990   0.540378\n",
       "1484196900  0.012170  0.012200  0.012160  0.012200  11.014315\n",
       "1503744300  0.076242  0.076625  0.076186  0.076538  21.859215"
      ]
     },
     "execution_count": 2,
     "metadata": {},
     "output_type": "execute_result"
    }
   ],
   "source": [
    "df = pd.read_csv('./datasets/{}/{}_train.csv'.format(period, pair), index_col=0)\n",
    "df.head()"
   ]
  },
  {
   "cell_type": "code",
   "execution_count": 3,
   "metadata": {
    "slideshow": {
     "slide_type": "slide"
    }
   },
   "outputs": [
    {
     "data": {
      "text/html": [
       "<div>\n",
       "<style>\n",
       "    .dataframe thead tr:only-child th {\n",
       "        text-align: right;\n",
       "    }\n",
       "\n",
       "    .dataframe thead th {\n",
       "        text-align: left;\n",
       "    }\n",
       "\n",
       "    .dataframe tbody tr th {\n",
       "        vertical-align: top;\n",
       "    }\n",
       "</style>\n",
       "<table border=\"1\" class=\"dataframe\">\n",
       "  <thead>\n",
       "    <tr style=\"text-align: right;\">\n",
       "      <th></th>\n",
       "      <th>open</th>\n",
       "      <th>high</th>\n",
       "      <th>low</th>\n",
       "      <th>close</th>\n",
       "      <th>volume</th>\n",
       "      <th>close-1</th>\n",
       "      <th>close-2</th>\n",
       "      <th>close-3</th>\n",
       "      <th>close-4</th>\n",
       "      <th>close-5</th>\n",
       "      <th>close-6</th>\n",
       "      <th>close-7</th>\n",
       "      <th>close-8</th>\n",
       "      <th>close-9</th>\n",
       "      <th>close-10</th>\n",
       "      <th>close-11</th>\n",
       "      <th>close-12</th>\n",
       "      <th>up</th>\n",
       "    </tr>\n",
       "    <tr>\n",
       "      <th>datetime</th>\n",
       "      <th></th>\n",
       "      <th></th>\n",
       "      <th></th>\n",
       "      <th></th>\n",
       "      <th></th>\n",
       "      <th></th>\n",
       "      <th></th>\n",
       "      <th></th>\n",
       "      <th></th>\n",
       "      <th></th>\n",
       "      <th></th>\n",
       "      <th></th>\n",
       "      <th></th>\n",
       "      <th></th>\n",
       "      <th></th>\n",
       "      <th></th>\n",
       "      <th></th>\n",
       "      <th></th>\n",
       "    </tr>\n",
       "  </thead>\n",
       "  <tbody>\n",
       "    <tr>\n",
       "      <th>1487875200</th>\n",
       "      <td>0.011045</td>\n",
       "      <td>0.011122</td>\n",
       "      <td>0.011041</td>\n",
       "      <td>0.011121</td>\n",
       "      <td>11.194678</td>\n",
       "      <td>-0.012430</td>\n",
       "      <td>-0.027779</td>\n",
       "      <td>-0.029284</td>\n",
       "      <td>-0.128479</td>\n",
       "      <td>-0.004829</td>\n",
       "      <td>0.000309</td>\n",
       "      <td>-0.069364</td>\n",
       "      <td>-0.065416</td>\n",
       "      <td>-0.001079</td>\n",
       "      <td>-0.002868</td>\n",
       "      <td>-0.038379</td>\n",
       "      <td>-1.049781e-02</td>\n",
       "      <td>True</td>\n",
       "    </tr>\n",
       "    <tr>\n",
       "      <th>1498676100</th>\n",
       "      <td>0.117500</td>\n",
       "      <td>0.117584</td>\n",
       "      <td>0.117100</td>\n",
       "      <td>0.117471</td>\n",
       "      <td>75.035153</td>\n",
       "      <td>0.106349</td>\n",
       "      <td>0.093920</td>\n",
       "      <td>0.078571</td>\n",
       "      <td>0.077065</td>\n",
       "      <td>-0.022129</td>\n",
       "      <td>0.101521</td>\n",
       "      <td>0.106659</td>\n",
       "      <td>0.036985</td>\n",
       "      <td>0.040933</td>\n",
       "      <td>0.105271</td>\n",
       "      <td>0.103481</td>\n",
       "      <td>6.797067e-02</td>\n",
       "      <td>False</td>\n",
       "    </tr>\n",
       "    <tr>\n",
       "      <th>1503522000</th>\n",
       "      <td>0.076721</td>\n",
       "      <td>0.076819</td>\n",
       "      <td>0.076500</td>\n",
       "      <td>0.076754</td>\n",
       "      <td>23.615713</td>\n",
       "      <td>-0.040717</td>\n",
       "      <td>0.065633</td>\n",
       "      <td>0.053203</td>\n",
       "      <td>0.037854</td>\n",
       "      <td>0.036349</td>\n",
       "      <td>-0.062846</td>\n",
       "      <td>0.060804</td>\n",
       "      <td>0.065942</td>\n",
       "      <td>-0.003731</td>\n",
       "      <td>0.000216</td>\n",
       "      <td>0.064554</td>\n",
       "      <td>6.276445e-02</td>\n",
       "      <td>False</td>\n",
       "    </tr>\n",
       "    <tr>\n",
       "      <th>1484138400</th>\n",
       "      <td>0.012190</td>\n",
       "      <td>0.012200</td>\n",
       "      <td>0.012166</td>\n",
       "      <td>0.012200</td>\n",
       "      <td>24.981303</td>\n",
       "      <td>-0.064554</td>\n",
       "      <td>-0.105271</td>\n",
       "      <td>0.001079</td>\n",
       "      <td>-0.011351</td>\n",
       "      <td>-0.026700</td>\n",
       "      <td>-0.028205</td>\n",
       "      <td>-0.127400</td>\n",
       "      <td>-0.003750</td>\n",
       "      <td>0.001388</td>\n",
       "      <td>-0.068285</td>\n",
       "      <td>-0.064338</td>\n",
       "      <td>2.600000e-07</td>\n",
       "      <td>False</td>\n",
       "    </tr>\n",
       "    <tr>\n",
       "      <th>1480558500</th>\n",
       "      <td>0.011338</td>\n",
       "      <td>0.011353</td>\n",
       "      <td>0.011314</td>\n",
       "      <td>0.011340</td>\n",
       "      <td>4.921802</td>\n",
       "      <td>-0.000860</td>\n",
       "      <td>-0.065414</td>\n",
       "      <td>-0.106131</td>\n",
       "      <td>0.000219</td>\n",
       "      <td>-0.012211</td>\n",
       "      <td>-0.027560</td>\n",
       "      <td>-0.029065</td>\n",
       "      <td>-0.128260</td>\n",
       "      <td>-0.004610</td>\n",
       "      <td>0.000528</td>\n",
       "      <td>-0.069145</td>\n",
       "      <td>-6.519763e-02</td>\n",
       "      <td>True</td>\n",
       "    </tr>\n",
       "  </tbody>\n",
       "</table>\n",
       "</div>"
      ],
      "text/plain": [
       "                open      high       low     close     volume   close-1  \\\n",
       "datetime                                                                  \n",
       "1487875200  0.011045  0.011122  0.011041  0.011121  11.194678 -0.012430   \n",
       "1498676100  0.117500  0.117584  0.117100  0.117471  75.035153  0.106349   \n",
       "1503522000  0.076721  0.076819  0.076500  0.076754  23.615713 -0.040717   \n",
       "1484138400  0.012190  0.012200  0.012166  0.012200  24.981303 -0.064554   \n",
       "1480558500  0.011338  0.011353  0.011314  0.011340   4.921802 -0.000860   \n",
       "\n",
       "             close-2   close-3   close-4   close-5   close-6   close-7  \\\n",
       "datetime                                                                 \n",
       "1487875200 -0.027779 -0.029284 -0.128479 -0.004829  0.000309 -0.069364   \n",
       "1498676100  0.093920  0.078571  0.077065 -0.022129  0.101521  0.106659   \n",
       "1503522000  0.065633  0.053203  0.037854  0.036349 -0.062846  0.060804   \n",
       "1484138400 -0.105271  0.001079 -0.011351 -0.026700 -0.028205 -0.127400   \n",
       "1480558500 -0.065414 -0.106131  0.000219 -0.012211 -0.027560 -0.029065   \n",
       "\n",
       "             close-8   close-9  close-10  close-11      close-12     up  \n",
       "datetime                                                                 \n",
       "1487875200 -0.065416 -0.001079 -0.002868 -0.038379 -1.049781e-02   True  \n",
       "1498676100  0.036985  0.040933  0.105271  0.103481  6.797067e-02  False  \n",
       "1503522000  0.065942 -0.003731  0.000216  0.064554  6.276445e-02  False  \n",
       "1484138400 -0.003750  0.001388 -0.068285 -0.064338  2.600000e-07  False  \n",
       "1480558500 -0.128260 -0.004610  0.000528 -0.069145 -6.519763e-02   True  "
      ]
     },
     "execution_count": 3,
     "metadata": {},
     "output_type": "execute_result"
    }
   ],
   "source": [
    "close_lag_fields = []\n",
    "for n in range(1, lag+1):\n",
    "    k = 'close-' + str(n)\n",
    "    df[k] = df['close'] - df.shift(n)['close']\n",
    "    close_lag_fields.append(k)\n",
    "df['up'] = df['close'] < df.shift(-1)['close']\n",
    "df.dropna(inplace=True)\n",
    "df.head()"
   ]
  },
  {
   "cell_type": "code",
   "execution_count": 4,
   "metadata": {
    "slideshow": {
     "slide_type": "slide"
    }
   },
   "outputs": [
    {
     "name": "stdout",
     "output_type": "stream",
     "text": [
      "Before scaling:  -0.14128634 0.14308502\n",
      "After scaling:  0.0 1.0\n"
     ]
    }
   ],
   "source": [
    "X = df[close_lag_fields].values\n",
    "print('Before scaling: ', np.min(X), np.max(X))\n",
    "\n",
    "scaler = MinMaxScaler()\n",
    "\n",
    "X = scaler.fit_transform(X)\n",
    "print('After scaling: ', np.min(X), np.max(X))"
   ]
  },
  {
   "cell_type": "code",
   "execution_count": 5,
   "metadata": {
    "slideshow": {
     "slide_type": "slide"
    }
   },
   "outputs": [
    {
     "data": {
      "text/plain": [
       "(61908, 12)"
      ]
     },
     "execution_count": 5,
     "metadata": {},
     "output_type": "execute_result"
    }
   ],
   "source": [
    "X.shape"
   ]
  },
  {
   "cell_type": "code",
   "execution_count": 16,
   "metadata": {
    "slideshow": {
     "slide_type": "slide"
    }
   },
   "outputs": [
    {
     "name": "stdout",
     "output_type": "stream",
     "text": [
      "0 1\n"
     ]
    }
   ],
   "source": [
    "y = df['up'].astype(int).values\n",
    "print(y[1], y[4])"
   ]
  },
  {
   "cell_type": "code",
   "execution_count": 17,
   "metadata": {
    "slideshow": {
     "slide_type": "slide"
    }
   },
   "outputs": [
    {
     "name": "stdout",
     "output_type": "stream",
     "text": [
      "[ 1.  0.] [ 0.  1.]\n"
     ]
    }
   ],
   "source": [
    "y = np.asarray([np.eye(2)[v] for v in y])\n",
    "print(y[1], y[4])"
   ]
  },
  {
   "cell_type": "code",
   "execution_count": 8,
   "metadata": {
    "slideshow": {
     "slide_type": "slide"
    }
   },
   "outputs": [
    {
     "data": {
      "text/plain": [
       "(61908, 2)"
      ]
     },
     "execution_count": 8,
     "metadata": {},
     "output_type": "execute_result"
    }
   ],
   "source": [
    "y.shape"
   ]
  },
  {
   "cell_type": "code",
   "execution_count": 9,
   "metadata": {
    "slideshow": {
     "slide_type": "slide"
    }
   },
   "outputs": [],
   "source": [
    "def create_model():\n",
    "    model = Sequential()\n",
    "    model.add(Dense(128, input_dim=12, activation='relu'))\n",
    "    model.add(Dense(64, activation='relu'))\n",
    "    model.add(Dense(2, activation='softmax'))\n",
    "\n",
    "    model.compile(loss='categorical_crossentropy', optimizer='adam', metrics=['accuracy'])\n",
    "    return model"
   ]
  },
  {
   "cell_type": "code",
   "execution_count": 10,
   "metadata": {
    "slideshow": {
     "slide_type": "slide"
    }
   },
   "outputs": [],
   "source": [
    "def plot_accuracy_history(history):\n",
    "    plt.plot(history.history['acc'])\n",
    "    plt.plot(history.history['val_acc'])\n",
    "    plt.title('model accuracy')\n",
    "    plt.ylabel('accuracy')\n",
    "    plt.xlabel('epoch')\n",
    "    plt.legend(['train', 'test'], loc='upper left')\n",
    "    plt.show()\n",
    "\n",
    "def plot_loss_history(history):\n",
    "    plt.plot(history.history['loss'])\n",
    "    plt.plot(history.history['val_loss'])\n",
    "    plt.title('model loss')\n",
    "    plt.ylabel('loss')\n",
    "    plt.xlabel('epoch')\n",
    "    plt.legend(['train', 'test'], loc='upper left')\n",
    "    plt.show()"
   ]
  },
  {
   "cell_type": "code",
   "execution_count": 11,
   "metadata": {
    "scrolled": false,
    "slideshow": {
     "slide_type": "slide"
    }
   },
   "outputs": [],
   "source": [
    "model = create_model()\n",
    "history = model.fit(X, y, epochs=80, batch_size=64, verbose=0, validation_split=0.2)"
   ]
  },
  {
   "cell_type": "code",
   "execution_count": 12,
   "metadata": {
    "slideshow": {
     "slide_type": "slide"
    }
   },
   "outputs": [
    {
     "data": {
      "image/png": "[encoded data removed]",
      "text/plain": [
       "<matplotlib.figure.Figure at 0x7ff660808630>"
      ]
     },
     "metadata": {},
     "output_type": "display_data"
    }
   ],
   "source": [
    "plot_loss_history(history)"
   ]
  },
  {
   "cell_type": "code",
   "execution_count": 13,
   "metadata": {
    "slideshow": {
     "slide_type": "slide"
    }
   },
   "outputs": [
    {
     "data": {
      "image/png": "[encoded data removed]",
      "text/plain": [
       "<matplotlib.figure.Figure at 0x7ff65ffde240>"
      ]
     },
     "metadata": {},
     "output_type": "display_data"
    }
   ],
   "source": [
    "plot_accuracy_history(history)"
   ]
  },
  {
   "cell_type": "code",
   "execution_count": 14,
   "metadata": {
    "slideshow": {
     "slide_type": "slide"
    }
   },
   "outputs": [],
   "source": [
    "model.save('model_5min_btc_eth.h5')"
   ]
  },
  {
   "cell_type": "code",
   "execution_count": null,
   "metadata": {
    "slideshow": {
     "slide_type": "skip"
    }
   },
   "outputs": [],
   "source": []
  }
 ],
 "metadata": {
  "celltoolbar": "Slideshow",
  "kernelspec": {
   "display_name": "Python 3",
   "language": "python",
   "name": "python3"
  },
  "language_info": {
   "codemirror_mode": {
    "name": "ipython",
    "version": 3
   },
   "file_extension": ".py",
   "mimetype": "text/x-python",
   "name": "python",
   "nbconvert_exporter": "python",
   "pygments_lexer": "ipython3",
   "version": "3.5.3"
  }
 },
 "nbformat": 4,
 "nbformat_minor": 2
}
