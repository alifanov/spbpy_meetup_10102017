{
 "cells": [
  {
   "cell_type": "code",
   "execution_count": 62,
   "metadata": {
    "scrolled": true,
    "slideshow": {
     "slide_type": "slide"
    }
   },
   "outputs": [],
   "source": [
    "import pandas as pd\n",
    "import numpy as np\n",
    "from sklearn.preprocessing import StandardScaler, MinMaxScaler\n",
    "from sklearn.model_selection import train_test_split\n",
    "from sklearn.ensemble import RandomForestClassifier\n",
    "\n",
    "from keras.models import Sequential\n",
    "from keras.layers import Dense, Dropout\n",
    "\n",
    "import matplotlib.pyplot as plt\n",
    "%matplotlib inline\n",
    "plt.rcParams['figure.figsize'] = (10.0, 10.0)\n",
    "\n",
    "seed = 7\n",
    "\n",
    "np.random.seed(seed)\n",
    "\n",
    "period = '5min'\n",
    "pair = 'BTC_ETH'\n",
    "lag = 12"
   ]
  },
  {
   "cell_type": "code",
   "execution_count": 63,
   "metadata": {
    "slideshow": {
     "slide_type": "slide"
    }
   },
   "outputs": [
    {
     "data": {
      "text/html": [
       "<div>\n",
       "<style>\n",
       "    .dataframe thead tr:only-child th {\n",
       "        text-align: right;\n",
       "    }\n",
       "\n",
       "    .dataframe thead th {\n",
       "        text-align: left;\n",
       "    }\n",
       "\n",
       "    .dataframe tbody tr th {\n",
       "        vertical-align: top;\n",
       "    }\n",
       "</style>\n",
       "<table border=\"1\" class=\"dataframe\">\n",
       "  <thead>\n",
       "    <tr style=\"text-align: right;\">\n",
       "      <th></th>\n",
       "      <th>open</th>\n",
       "      <th>high</th>\n",
       "      <th>low</th>\n",
       "      <th>close</th>\n",
       "      <th>volume</th>\n",
       "    </tr>\n",
       "    <tr>\n",
       "      <th>datetime</th>\n",
       "      <th></th>\n",
       "      <th></th>\n",
       "      <th></th>\n",
       "      <th></th>\n",
       "      <th></th>\n",
       "    </tr>\n",
       "  </thead>\n",
       "  <tbody>\n",
       "    <tr>\n",
       "      <th>1474205100</th>\n",
       "      <td>0.021000</td>\n",
       "      <td>0.021039</td>\n",
       "      <td>0.021000</td>\n",
       "      <td>0.021039</td>\n",
       "      <td>4.296642</td>\n",
       "    </tr>\n",
       "    <tr>\n",
       "      <th>1474205400</th>\n",
       "      <td>0.021042</td>\n",
       "      <td>0.021049</td>\n",
       "      <td>0.021038</td>\n",
       "      <td>0.021046</td>\n",
       "      <td>3.987229</td>\n",
       "    </tr>\n",
       "    <tr>\n",
       "      <th>1474205700</th>\n",
       "      <td>0.021042</td>\n",
       "      <td>0.021042</td>\n",
       "      <td>0.021000</td>\n",
       "      <td>0.021038</td>\n",
       "      <td>19.966953</td>\n",
       "    </tr>\n",
       "    <tr>\n",
       "      <th>1474206000</th>\n",
       "      <td>0.021025</td>\n",
       "      <td>0.021038</td>\n",
       "      <td>0.021000</td>\n",
       "      <td>0.021030</td>\n",
       "      <td>27.707384</td>\n",
       "    </tr>\n",
       "    <tr>\n",
       "      <th>1474206300</th>\n",
       "      <td>0.021001</td>\n",
       "      <td>0.021038</td>\n",
       "      <td>0.021001</td>\n",
       "      <td>0.021036</td>\n",
       "      <td>3.879610</td>\n",
       "    </tr>\n",
       "  </tbody>\n",
       "</table>\n",
       "</div>"
      ],
      "text/plain": [
       "                open      high       low     close     volume\n",
       "datetime                                                     \n",
       "1474205100  0.021000  0.021039  0.021000  0.021039   4.296642\n",
       "1474205400  0.021042  0.021049  0.021038  0.021046   3.987229\n",
       "1474205700  0.021042  0.021042  0.021000  0.021038  19.966953\n",
       "1474206000  0.021025  0.021038  0.021000  0.021030  27.707384\n",
       "1474206300  0.021001  0.021038  0.021001  0.021036   3.879610"
      ]
     },
     "execution_count": 63,
     "metadata": {},
     "output_type": "execute_result"
    }
   ],
   "source": [
    "df = pd.read_csv('./datasets/{}/{}_train.csv'.format(period, pair), index_col=0)\n",
    "df.head()"
   ]
  },
  {
   "cell_type": "code",
   "execution_count": 64,
   "metadata": {
    "slideshow": {
     "slide_type": "slide"
    }
   },
   "outputs": [
    {
     "data": {
      "text/plain": [
       "datetime\n",
       "1474205100    0.021039\n",
       "1474205400    0.021046\n",
       "1474205700    0.021038\n",
       "1474206000    0.021030\n",
       "1474206300    0.021036\n",
       "Name: close, dtype: float64"
      ]
     },
     "execution_count": 64,
     "metadata": {},
     "output_type": "execute_result"
    }
   ],
   "source": [
    "df['close'].head()"
   ]
  },
  {
   "cell_type": "code",
   "execution_count": 65,
   "metadata": {
    "slideshow": {
     "slide_type": "slide"
    }
   },
   "outputs": [
    {
     "data": {
      "text/plain": [
       "datetime\n",
       "1474205100         NaN\n",
       "1474205400    0.021039\n",
       "1474205700    0.021046\n",
       "1474206000    0.021038\n",
       "1474206300    0.021030\n",
       "Name: close, dtype: float64"
      ]
     },
     "execution_count": 65,
     "metadata": {},
     "output_type": "execute_result"
    }
   ],
   "source": [
    "df['close'].shift(1).head()"
   ]
  },
  {
   "cell_type": "code",
   "execution_count": 66,
   "metadata": {
    "slideshow": {
     "slide_type": "slide"
    }
   },
   "outputs": [
    {
     "data": {
      "text/plain": [
       "datetime\n",
       "1474205100         NaN\n",
       "1474205400    0.000008\n",
       "1474205700   -0.000008\n",
       "1474206000   -0.000008\n",
       "1474206300    0.000006\n",
       "Name: close, dtype: float64"
      ]
     },
     "execution_count": 66,
     "metadata": {},
     "output_type": "execute_result"
    }
   ],
   "source": [
    "(df['close'] - df['close'].shift(1)).head()"
   ]
  },
  {
   "cell_type": "code",
   "execution_count": 67,
   "metadata": {
    "slideshow": {
     "slide_type": "slide"
    }
   },
   "outputs": [
    {
     "data": {
      "text/html": [
       "<div>\n",
       "<style>\n",
       "    .dataframe thead tr:only-child th {\n",
       "        text-align: right;\n",
       "    }\n",
       "\n",
       "    .dataframe thead th {\n",
       "        text-align: left;\n",
       "    }\n",
       "\n",
       "    .dataframe tbody tr th {\n",
       "        vertical-align: top;\n",
       "    }\n",
       "</style>\n",
       "<table border=\"1\" class=\"dataframe\">\n",
       "  <thead>\n",
       "    <tr style=\"text-align: right;\">\n",
       "      <th></th>\n",
       "      <th>open</th>\n",
       "      <th>high</th>\n",
       "      <th>low</th>\n",
       "      <th>close</th>\n",
       "      <th>volume</th>\n",
       "      <th>close-1</th>\n",
       "      <th>close-2</th>\n",
       "      <th>close-3</th>\n",
       "      <th>close-4</th>\n",
       "      <th>close-5</th>\n",
       "      <th>close-6</th>\n",
       "      <th>close-7</th>\n",
       "      <th>close-8</th>\n",
       "      <th>close-9</th>\n",
       "      <th>close-10</th>\n",
       "      <th>close-11</th>\n",
       "      <th>close-12</th>\n",
       "      <th>up</th>\n",
       "    </tr>\n",
       "    <tr>\n",
       "      <th>datetime</th>\n",
       "      <th></th>\n",
       "      <th></th>\n",
       "      <th></th>\n",
       "      <th></th>\n",
       "      <th></th>\n",
       "      <th></th>\n",
       "      <th></th>\n",
       "      <th></th>\n",
       "      <th></th>\n",
       "      <th></th>\n",
       "      <th></th>\n",
       "      <th></th>\n",
       "      <th></th>\n",
       "      <th></th>\n",
       "      <th></th>\n",
       "      <th></th>\n",
       "      <th></th>\n",
       "      <th></th>\n",
       "    </tr>\n",
       "  </thead>\n",
       "  <tbody>\n",
       "    <tr>\n",
       "      <th>1474208700</th>\n",
       "      <td>0.020975</td>\n",
       "      <td>0.021000</td>\n",
       "      <td>0.020975</td>\n",
       "      <td>0.020988</td>\n",
       "      <td>0.340518</td>\n",
       "      <td>1.254000e-05</td>\n",
       "      <td>-0.000032</td>\n",
       "      <td>-0.000034</td>\n",
       "      <td>-0.000042</td>\n",
       "      <td>-0.000012</td>\n",
       "      <td>-0.000007</td>\n",
       "      <td>-0.000012</td>\n",
       "      <td>-0.000048</td>\n",
       "      <td>-0.000043</td>\n",
       "      <td>-0.000050</td>\n",
       "      <td>-0.000058</td>\n",
       "      <td>-0.000051</td>\n",
       "      <td>False</td>\n",
       "    </tr>\n",
       "    <tr>\n",
       "      <th>1474209000</th>\n",
       "      <td>0.020981</td>\n",
       "      <td>0.021054</td>\n",
       "      <td>0.020975</td>\n",
       "      <td>0.020982</td>\n",
       "      <td>28.259740</td>\n",
       "      <td>-5.830000e-06</td>\n",
       "      <td>0.000007</td>\n",
       "      <td>-0.000038</td>\n",
       "      <td>-0.000040</td>\n",
       "      <td>-0.000048</td>\n",
       "      <td>-0.000018</td>\n",
       "      <td>-0.000012</td>\n",
       "      <td>-0.000018</td>\n",
       "      <td>-0.000054</td>\n",
       "      <td>-0.000049</td>\n",
       "      <td>-0.000056</td>\n",
       "      <td>-0.000064</td>\n",
       "      <td>True</td>\n",
       "    </tr>\n",
       "    <tr>\n",
       "      <th>1474209300</th>\n",
       "      <td>0.021020</td>\n",
       "      <td>0.021020</td>\n",
       "      <td>0.020982</td>\n",
       "      <td>0.020982</td>\n",
       "      <td>3.249647</td>\n",
       "      <td>3.200000e-07</td>\n",
       "      <td>-0.000006</td>\n",
       "      <td>0.000007</td>\n",
       "      <td>-0.000038</td>\n",
       "      <td>-0.000040</td>\n",
       "      <td>-0.000048</td>\n",
       "      <td>-0.000018</td>\n",
       "      <td>-0.000012</td>\n",
       "      <td>-0.000018</td>\n",
       "      <td>-0.000054</td>\n",
       "      <td>-0.000048</td>\n",
       "      <td>-0.000056</td>\n",
       "      <td>True</td>\n",
       "    </tr>\n",
       "    <tr>\n",
       "      <th>1474209600</th>\n",
       "      <td>0.020996</td>\n",
       "      <td>0.021015</td>\n",
       "      <td>0.020975</td>\n",
       "      <td>0.021000</td>\n",
       "      <td>17.921582</td>\n",
       "      <td>1.797000e-05</td>\n",
       "      <td>0.000018</td>\n",
       "      <td>0.000012</td>\n",
       "      <td>0.000025</td>\n",
       "      <td>-0.000020</td>\n",
       "      <td>-0.000022</td>\n",
       "      <td>-0.000030</td>\n",
       "      <td>0.000000</td>\n",
       "      <td>0.000006</td>\n",
       "      <td>0.000000</td>\n",
       "      <td>-0.000036</td>\n",
       "      <td>-0.000030</td>\n",
       "      <td>False</td>\n",
       "    </tr>\n",
       "    <tr>\n",
       "      <th>1474209900</th>\n",
       "      <td>0.020990</td>\n",
       "      <td>0.021000</td>\n",
       "      <td>0.020980</td>\n",
       "      <td>0.020984</td>\n",
       "      <td>8.543838</td>\n",
       "      <td>-1.599000e-05</td>\n",
       "      <td>0.000002</td>\n",
       "      <td>0.000002</td>\n",
       "      <td>-0.000004</td>\n",
       "      <td>0.000009</td>\n",
       "      <td>-0.000036</td>\n",
       "      <td>-0.000038</td>\n",
       "      <td>-0.000046</td>\n",
       "      <td>-0.000016</td>\n",
       "      <td>-0.000010</td>\n",
       "      <td>-0.000016</td>\n",
       "      <td>-0.000052</td>\n",
       "      <td>False</td>\n",
       "    </tr>\n",
       "  </tbody>\n",
       "</table>\n",
       "</div>"
      ],
      "text/plain": [
       "                open      high       low     close     volume       close-1  \\\n",
       "datetime                                                                      \n",
       "1474208700  0.020975  0.021000  0.020975  0.020988   0.340518  1.254000e-05   \n",
       "1474209000  0.020981  0.021054  0.020975  0.020982  28.259740 -5.830000e-06   \n",
       "1474209300  0.021020  0.021020  0.020982  0.020982   3.249647  3.200000e-07   \n",
       "1474209600  0.020996  0.021015  0.020975  0.021000  17.921582  1.797000e-05   \n",
       "1474209900  0.020990  0.021000  0.020980  0.020984   8.543838 -1.599000e-05   \n",
       "\n",
       "             close-2   close-3   close-4   close-5   close-6   close-7  \\\n",
       "datetime                                                                 \n",
       "1474208700 -0.000032 -0.000034 -0.000042 -0.000012 -0.000007 -0.000012   \n",
       "1474209000  0.000007 -0.000038 -0.000040 -0.000048 -0.000018 -0.000012   \n",
       "1474209300 -0.000006  0.000007 -0.000038 -0.000040 -0.000048 -0.000018   \n",
       "1474209600  0.000018  0.000012  0.000025 -0.000020 -0.000022 -0.000030   \n",
       "1474209900  0.000002  0.000002 -0.000004  0.000009 -0.000036 -0.000038   \n",
       "\n",
       "             close-8   close-9  close-10  close-11  close-12     up  \n",
       "datetime                                                             \n",
       "1474208700 -0.000048 -0.000043 -0.000050 -0.000058 -0.000051  False  \n",
       "1474209000 -0.000018 -0.000054 -0.000049 -0.000056 -0.000064   True  \n",
       "1474209300 -0.000012 -0.000018 -0.000054 -0.000048 -0.000056   True  \n",
       "1474209600  0.000000  0.000006  0.000000 -0.000036 -0.000030  False  \n",
       "1474209900 -0.000046 -0.000016 -0.000010 -0.000016 -0.000052  False  "
      ]
     },
     "execution_count": 67,
     "metadata": {},
     "output_type": "execute_result"
    }
   ],
   "source": [
    "close_lag_fields = []\n",
    "for n in range(1, lag+1):\n",
    "    k = 'close-' + str(n)\n",
    "    df[k] = df['close'] - df.shift(n)['close']\n",
    "    close_lag_fields.append(k)\n",
    "df['up'] = df['close'] < df.shift(-1)['close']\n",
    "df.dropna(inplace=True)\n",
    "df.head()"
   ]
  },
  {
   "cell_type": "code",
   "execution_count": 68,
   "metadata": {
    "slideshow": {
     "slide_type": "slide"
    }
   },
   "outputs": [
    {
     "name": "stdout",
     "output_type": "stream",
     "text": [
      "Before scaling:  -0.0199 0.01788863\n",
      "After scaling:  -37.7762940907 36.5994817827\n"
     ]
    }
   ],
   "source": [
    "X = df[close_lag_fields].values\n",
    "print('Before scaling: ', np.min(X), np.max(X))\n",
    "\n",
    "scaler = StandardScaler()\n",
    "\n",
    "X = scaler.fit_transform(X)\n",
    "print('After scaling: ', np.min(X), np.max(X))"
   ]
  },
  {
   "cell_type": "code",
   "execution_count": 69,
   "metadata": {
    "slideshow": {
     "slide_type": "slide"
    }
   },
   "outputs": [
    {
     "data": {
      "text/plain": [
       "(84948, 12)"
      ]
     },
     "execution_count": 69,
     "metadata": {},
     "output_type": "execute_result"
    }
   ],
   "source": [
    "X.shape"
   ]
  },
  {
   "cell_type": "code",
   "execution_count": 70,
   "metadata": {
    "slideshow": {
     "slide_type": "slide"
    }
   },
   "outputs": [
    {
     "name": "stdout",
     "output_type": "stream",
     "text": [
      "1 0\n"
     ]
    }
   ],
   "source": [
    "y = df['up'].astype(int).values\n",
    "print(y[1], y[4])"
   ]
  },
  {
   "cell_type": "code",
   "execution_count": 71,
   "metadata": {
    "slideshow": {
     "slide_type": "slide"
    }
   },
   "outputs": [
    {
     "name": "stdout",
     "output_type": "stream",
     "text": [
      "[ 0.  1.] [ 1.  0.]\n"
     ]
    }
   ],
   "source": [
    "y = np.asarray([np.eye(2)[v] for v in y])\n",
    "print(y[1], y[4])"
   ]
  },
  {
   "cell_type": "code",
   "execution_count": 72,
   "metadata": {
    "slideshow": {
     "slide_type": "slide"
    }
   },
   "outputs": [
    {
     "data": {
      "text/plain": [
       "(84948, 2)"
      ]
     },
     "execution_count": 72,
     "metadata": {},
     "output_type": "execute_result"
    }
   ],
   "source": [
    "y.shape"
   ]
  },
  {
   "cell_type": "code",
   "execution_count": 79,
   "metadata": {
    "slideshow": {
     "slide_type": "slide"
    }
   },
   "outputs": [],
   "source": [
    "def create_model():\n",
    "    model = Sequential()\n",
    "    model.add(Dense(128, input_dim=12, activation='relu'))\n",
    "    model.add(Dropout(0.5))\n",
    "    model.add(Dense(64, activation='relu'))\n",
    "    model.add(Dropout(0.5))\n",
    "    model.add(Dense(2, activation='softmax'))\n",
    "\n",
    "    model.compile(loss='categorical_crossentropy', optimizer='adam', metrics=['accuracy'])\n",
    "    return model"
   ]
  },
  {
   "cell_type": "code",
   "execution_count": 80,
   "metadata": {
    "slideshow": {
     "slide_type": "slide"
    }
   },
   "outputs": [],
   "source": [
    "def plot_accuracy_history(history):\n",
    "    plt.plot(history.history['acc'])\n",
    "    plt.plot(history.history['val_acc'])\n",
    "    plt.title('model accuracy')\n",
    "    plt.ylabel('accuracy')\n",
    "    plt.xlabel('epoch')\n",
    "    plt.legend(['train', 'test'], loc='upper left')\n",
    "    plt.show()\n",
    "\n",
    "def plot_loss_history(history):\n",
    "    plt.plot(history.history['loss'])\n",
    "    plt.plot(history.history['val_loss'])\n",
    "    plt.title('model loss')\n",
    "    plt.ylabel('loss')\n",
    "    plt.xlabel('epoch')\n",
    "    plt.legend(['train', 'test'], loc='upper left')\n",
    "    plt.show()"
   ]
  },
  {
   "cell_type": "code",
   "execution_count": 81,
   "metadata": {
    "scrolled": false,
    "slideshow": {
     "slide_type": "slide"
    }
   },
   "outputs": [],
   "source": [
    "model = create_model()\n",
    "history = model.fit(X, y, epochs=80, batch_size=64, verbose=0, validation_split=0.2)"
   ]
  },
  {
   "cell_type": "code",
   "execution_count": 82,
   "metadata": {
    "slideshow": {
     "slide_type": "slide"
    }
   },
   "outputs": [
    {
     "data": {
      "image/png": "[encoded data removed]",
      "text/plain": [
       "<matplotlib.figure.Figure at 0x7f382c079c18>"
      ]
     },
     "metadata": {},
     "output_type": "display_data"
    }
   ],
   "source": [
    "plot_loss_history(history)"
   ]
  },
  {
   "cell_type": "code",
   "execution_count": 83,
   "metadata": {
    "slideshow": {
     "slide_type": "slide"
    }
   },
   "outputs": [
    {
     "data": {
      "image/png": "[encoded data removed]",
      "text/plain": [
       "<matplotlib.figure.Figure at 0x7f3827b4f4a8>"
      ]
     },
     "metadata": {},
     "output_type": "display_data"
    }
   ],
   "source": [
    "plot_accuracy_history(history)"
   ]
  },
  {
   "cell_type": "code",
   "execution_count": 84,
   "metadata": {
    "slideshow": {
     "slide_type": "slide"
    }
   },
   "outputs": [],
   "source": [
    "model.save('model_5min_btc_eth.h5')"
   ]
  },
  {
   "cell_type": "code",
   "execution_count": null,
   "metadata": {
    "slideshow": {
     "slide_type": "skip"
    }
   },
   "outputs": [],
   "source": []
  }
 ],
 "metadata": {
  "celltoolbar": "Slideshow",
  "kernelspec": {
   "display_name": "Python 3",
   "language": "python",
   "name": "python3"
  },
  "language_info": {
   "codemirror_mode": {
    "name": "ipython",
    "version": 3
   },
   "file_extension": ".py",
   "mimetype": "text/x-python",
   "name": "python",
   "nbconvert_exporter": "python",
   "pygments_lexer": "ipython3",
   "version": "3.5.3"
  }
 },
 "nbformat": 4,
 "nbformat_minor": 2
}
